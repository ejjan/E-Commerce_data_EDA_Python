{
 "cells": [
  {
   "cell_type": "markdown",
   "metadata": {},
   "source": [
    "# Data Introduction\n",
    "This is a transnational data set which contains all the transactions occurring between 01/12/2010 and 09/12/2011 for a UK-based and registered non-store online retail.The company mainly sells unique all-occasion gifts. Many customers of the company are wholesalers.\n",
    "[Data Source](https://archive.ics.uci.edu/ml/datasets/online+retail)\n",
    "\n",
    "# Variables Information\n",
    "This dataframe contains 8 variables that correspond to:\n",
    "* **InvoiceNo:** Invoice number. Nominal, a 6-digit integral number uniquely assigned to each transaction. If this code starts with letter 'C', it indicates a cancellation.\n",
    "\n",
    "* **StockCode:** Product (item) code. Nominal, a 5-digit integral number uniquely assigned to each distinct product.\n",
    "\n",
    "* **Description:** Product (item) name. Nominal.\n",
    "\n",
    "* **Quantity:** The quantities of each product (item) per transaction. Numeric.\n",
    "\n",
    "* **InvoiceDate:** Invice Date and time. Numeric, the day and time when each transaction was generated.\n",
    "\n",
    "* **UnitPrice:** Unit price. Numeric, Product price per unit in sterling.\n",
    "\n",
    "* **CustomerID:** Customer number. Nominal, a 5-digit integral number uniquely assigned to each customer.\n",
    "\n",
    "* **Country:** Country name. Nominal, the name of the country where each customer resides."
   ]
  },
  {
   "cell_type": "code",
   "execution_count": 2,
   "metadata": {},
   "outputs": [],
   "source": [
    "import pandas as pd\n",
    "import numpy as np\n",
    "\n",
    "from datetime import date\n",
    "import calendar\n",
    "\n",
    "import matplotlib.pyplot as plt\n",
    "import seaborn as sns\n",
    "\n",
    "import plotly.graph_objs as go\n",
    "from plotly.offline import init_notebook_mode,iplot\n",
    "\n",
    "import re\n",
    "import os\n",
    "from nltk.tokenize import word_tokenize\n",
    "from nltk.classify import NaiveBayesClassifier\n",
    "from nltk.corpus import stopwords\n",
    "from collections import Counter\n",
    "import operator"
   ]
  },
  {
   "cell_type": "markdown",
   "metadata": {},
   "source": [
    "# Load data"
   ]
  },
  {
   "cell_type": "code",
   "execution_count": 3,
   "metadata": {},
   "outputs": [],
   "source": [
    "df = pd.read_csv('UK retailer E-commerce data.csv',encoding = \"ISO-8859-1\",converters={'CustomerID':str})\n",
    "df.InvoiceDate = pd.to_datetime(df.InvoiceDate, format=\"%m/%d/%Y %H:%M\")"
   ]
  },
  {
   "cell_type": "code",
   "execution_count": 4,
   "metadata": {},
   "outputs": [
    {
     "data": {
      "text/html": [
       "<div>\n",
       "<style scoped>\n",
       "    .dataframe tbody tr th:only-of-type {\n",
       "        vertical-align: middle;\n",
       "    }\n",
       "\n",
       "    .dataframe tbody tr th {\n",
       "        vertical-align: top;\n",
       "    }\n",
       "\n",
       "    .dataframe thead th {\n",
       "        text-align: right;\n",
       "    }\n",
       "</style>\n",
       "<table border=\"1\" class=\"dataframe\">\n",
       "  <thead>\n",
       "    <tr style=\"text-align: right;\">\n",
       "      <th></th>\n",
       "      <th>InvoiceNo</th>\n",
       "      <th>StockCode</th>\n",
       "      <th>Description</th>\n",
       "      <th>Quantity</th>\n",
       "      <th>InvoiceDate</th>\n",
       "      <th>UnitPrice</th>\n",
       "      <th>CustomerID</th>\n",
       "      <th>Country</th>\n",
       "    </tr>\n",
       "  </thead>\n",
       "  <tbody>\n",
       "    <tr>\n",
       "      <th>0</th>\n",
       "      <td>536365</td>\n",
       "      <td>85123A</td>\n",
       "      <td>WHITE HANGING HEART T-LIGHT HOLDER</td>\n",
       "      <td>6</td>\n",
       "      <td>2010-12-01 08:26:00</td>\n",
       "      <td>2.55</td>\n",
       "      <td>17850</td>\n",
       "      <td>United Kingdom</td>\n",
       "    </tr>\n",
       "    <tr>\n",
       "      <th>1</th>\n",
       "      <td>536365</td>\n",
       "      <td>71053</td>\n",
       "      <td>WHITE METAL LANTERN</td>\n",
       "      <td>6</td>\n",
       "      <td>2010-12-01 08:26:00</td>\n",
       "      <td>3.39</td>\n",
       "      <td>17850</td>\n",
       "      <td>United Kingdom</td>\n",
       "    </tr>\n",
       "    <tr>\n",
       "      <th>2</th>\n",
       "      <td>536365</td>\n",
       "      <td>84406B</td>\n",
       "      <td>CREAM CUPID HEARTS COAT HANGER</td>\n",
       "      <td>8</td>\n",
       "      <td>2010-12-01 08:26:00</td>\n",
       "      <td>2.75</td>\n",
       "      <td>17850</td>\n",
       "      <td>United Kingdom</td>\n",
       "    </tr>\n",
       "    <tr>\n",
       "      <th>3</th>\n",
       "      <td>536365</td>\n",
       "      <td>84029G</td>\n",
       "      <td>KNITTED UNION FLAG HOT WATER BOTTLE</td>\n",
       "      <td>6</td>\n",
       "      <td>2010-12-01 08:26:00</td>\n",
       "      <td>3.39</td>\n",
       "      <td>17850</td>\n",
       "      <td>United Kingdom</td>\n",
       "    </tr>\n",
       "    <tr>\n",
       "      <th>4</th>\n",
       "      <td>536365</td>\n",
       "      <td>84029E</td>\n",
       "      <td>RED WOOLLY HOTTIE WHITE HEART.</td>\n",
       "      <td>6</td>\n",
       "      <td>2010-12-01 08:26:00</td>\n",
       "      <td>3.39</td>\n",
       "      <td>17850</td>\n",
       "      <td>United Kingdom</td>\n",
       "    </tr>\n",
       "  </tbody>\n",
       "</table>\n",
       "</div>"
      ],
      "text/plain": [
       "  InvoiceNo StockCode                          Description  Quantity  \\\n",
       "0    536365    85123A   WHITE HANGING HEART T-LIGHT HOLDER         6   \n",
       "1    536365     71053                  WHITE METAL LANTERN         6   \n",
       "2    536365    84406B       CREAM CUPID HEARTS COAT HANGER         8   \n",
       "3    536365    84029G  KNITTED UNION FLAG HOT WATER BOTTLE         6   \n",
       "4    536365    84029E       RED WOOLLY HOTTIE WHITE HEART.         6   \n",
       "\n",
       "          InvoiceDate  UnitPrice CustomerID         Country  \n",
       "0 2010-12-01 08:26:00       2.55      17850  United Kingdom  \n",
       "1 2010-12-01 08:26:00       3.39      17850  United Kingdom  \n",
       "2 2010-12-01 08:26:00       2.75      17850  United Kingdom  \n",
       "3 2010-12-01 08:26:00       3.39      17850  United Kingdom  \n",
       "4 2010-12-01 08:26:00       3.39      17850  United Kingdom  "
      ]
     },
     "execution_count": 4,
     "metadata": {},
     "output_type": "execute_result"
    }
   ],
   "source": [
    "df.head()"
   ]
  },
  {
   "cell_type": "code",
   "execution_count": 12,
   "metadata": {},
   "outputs": [
    {
     "name": "stdout",
     "output_type": "stream",
     "text": [
      "<class 'pandas.core.frame.DataFrame'>\n",
      "RangeIndex: 541909 entries, 0 to 541908\n",
      "Data columns (total 8 columns):\n",
      "InvoiceNo      541909 non-null object\n",
      "StockCode      541909 non-null object\n",
      "Description    540455 non-null object\n",
      "Quantity       541909 non-null int64\n",
      "InvoiceDate    541909 non-null datetime64[ns]\n",
      "UnitPrice      541909 non-null float64\n",
      "CustomerID     541909 non-null object\n",
      "Country        541909 non-null object\n",
      "dtypes: datetime64[ns](1), float64(1), int64(1), object(5)\n",
      "memory usage: 33.1+ MB\n"
     ]
    }
   ],
   "source": [
    "df.info()"
   ]
  },
  {
   "cell_type": "code",
   "execution_count": 9,
   "metadata": {},
   "outputs": [
    {
     "data": {
      "text/plain": [
       "InvoiceNo         0\n",
       "StockCode         0\n",
       "Description    1454\n",
       "Quantity          0\n",
       "InvoiceDate       0\n",
       "UnitPrice         0\n",
       "CustomerID        0\n",
       "Country           0\n",
       "dtype: int64"
      ]
     },
     "execution_count": 9,
     "metadata": {},
     "output_type": "execute_result"
    }
   ],
   "source": [
    "# check how many null values in each attribute\n",
    "df.isnull().sum()"
   ]
  },
  {
   "cell_type": "code",
   "execution_count": 14,
   "metadata": {},
   "outputs": [
    {
     "data": {
      "text/plain": [
       "(541909, 8)"
      ]
     },
     "execution_count": 14,
     "metadata": {},
     "output_type": "execute_result"
    }
   ],
   "source": [
    "df.shape # There are 541909 rows and 8 variables in the dataset"
   ]
  },
  {
   "cell_type": "code",
   "execution_count": 5,
   "metadata": {},
   "outputs": [],
   "source": [
    "# get date attributes\n",
    "df['Date'] = df['InvoiceDate'].apply(lambda x: x.strftime('%Y-%m-%d'))    \n",
    "df.Date = pd.to_datetime(df.Date)\n",
    "df['Year_Month'] = df['InvoiceDate'].apply(lambda x: x.strftime('%Y-%m'))   \n",
    "df['day_of_week'] = df['InvoiceDate'].dt.weekday_name"
   ]
  },
  {
   "cell_type": "markdown",
   "metadata": {},
   "source": [
    "# Exploratory Data Analysis "
   ]
  },
  {
   "cell_type": "code",
   "execution_count": 94,
   "metadata": {},
   "outputs": [
    {
     "name": "stdout",
     "output_type": "stream",
     "text": [
      "Number of Customers:  4373\n",
      "Number of Products:   4070\n"
     ]
    }
   ],
   "source": [
    "print('Number of Customers: ',df['CustomerID'].nunique())\n",
    "print('Number of Products:  ',df['StockCode'].nunique())"
   ]
  },
  {
   "cell_type": "markdown",
   "metadata": {},
   "source": [
    "## Order Frequency by Date\n",
    "**From the plot, we can see that most of the orders were placed around the end of year. <br>\n",
    "Since we have Thanks giving and Christmas in the end of year, most of the wholesalers stock their product before holidays <br> this could explain why most of orders were placed around the end of year.**"
   ]
  },
  {
   "cell_type": "code",
   "execution_count": 16,
   "metadata": {},
   "outputs": [
    {
     "data": {
      "image/png": "[encoded data removed]",
      "text/plain": [
       "<Figure size 864x432 with 1 Axes>"
      ]
     },
     "metadata": {},
     "output_type": "display_data"
    }
   ],
   "source": [
    "\n",
    "plt.figure(figsize=(12,6))\n",
    "sns.countplot(x='Year_Month', data=df[~df['InvoiceNo'].str.startswith(('C'))])\n",
    "plt.title('Distribution of Order Frequency by Date', fontsize=20)\n",
    "plt.xlabel('Invoice Date (Year_Month)',fontsize=15)\n",
    "plt.ylabel('# of Order',fontsize=15)\n",
    "plt.xticks(rotation=45)\n",
    "plt.show()"
   ]
  },
  {
   "cell_type": "markdown",
   "metadata": {},
   "source": [
    "## Cancelled Order by Date\n",
    "**Overall, pattern of cancelled orders lined up with pattern of order frequency. There were more cancelled orders in October, 2011.**"
   ]
  },
  {
   "cell_type": "code",
   "execution_count": 23,
   "metadata": {},
   "outputs": [
    {
     "data": {
      "image/png": "[encoded data removed]",
      "text/plain": [
       "<Figure size 864x432 with 1 Axes>"
      ]
     },
     "metadata": {},
     "output_type": "display_data"
    }
   ],
   "source": [
    "plt.figure(figsize=(12,6))\n",
    "sns.countplot(x='Year_Month', data=df[df['InvoiceNo'].str.startswith(('C'))])\n",
    "plt.title('Distribution of Cancelled Order by Date', fontsize=20)\n",
    "plt.xlabel('Invoice Date (Year_Month)',fontsize=15)\n",
    "plt.ylabel('# of Cancelled Order',fontsize=15)\n",
    "plt.xticks(rotation=45)\n",
    "plt.show()"
   ]
  },
  {
   "cell_type": "markdown",
   "metadata": {},
   "source": [
    "## Order Frequency by Day of Week\n",
    "**From the bar plot, we can see that customers tend to make orders on Tuesday and Thursday. <br>\n",
    "Interestingly, there was no order on Saturday at all. It is possible that E-Commerce ordering platform does not accept order on Saturday.**"
   ]
  },
  {
   "cell_type": "code",
   "execution_count": 22,
   "metadata": {},
   "outputs": [
    {
     "data": {
      "image/png": "[encoded data removed]",
      "text/plain": [
       "<Figure size 720x360 with 1 Axes>"
      ]
     },
     "metadata": {},
     "output_type": "display_data"
    }
   ],
   "source": [
    "df['day_of_week'] = pd.Categorical(df['day_of_week'], categories=[ 'Sunday', 'Monday','Tuesday','Wednesday',\n",
    "                                                                  'Thursday','Friday','Saturday'], ordered=True)\n",
    "count = df[~df['InvoiceNo'].str.startswith(('C'))]['day_of_week'].value_counts()\n",
    "count = count.sort_index()\n",
    "plt.suptitle('Order Frequency by Day of Week', fontsize=20)\n",
    "\n",
    "plt.xlabel('Day of Week', fontsize=16)\n",
    "plt.ylabel('# of Orders', fontsize=16)\n",
    "count.plot(kind='bar',figsize=(10,5), rot='45')\n",
    "plt.show()"
   ]
  },
  {
   "cell_type": "markdown",
   "metadata": {},
   "source": [
    "## Order Frequency by Country (Create Choropleth Map using Plotly)\n",
    "**From the map, it is clear that UK had most orders among 37 countries. <br>\n",
    "Since this wholesaler is UK based, this finding is not surprising.**"
   ]
  },
  {
   "cell_type": "code",
   "execution_count": 48,
   "metadata": {},
   "outputs": [],
   "source": [
    "con = df.groupby('Country')['InvoiceNo'].count().to_frame().reset_index().rename(columns={'InvoiceNo':'Total_Orders'})\n",
    "con = con.drop([37])"
   ]
  },
  {
   "cell_type": "code",
   "execution_count": 49,
   "metadata": {},
   "outputs": [
    {
     "data": {
      "text/html": [
       "<div>\n",
       "<style scoped>\n",
       "    .dataframe tbody tr th:only-of-type {\n",
       "        vertical-align: middle;\n",
       "    }\n",
       "\n",
       "    .dataframe tbody tr th {\n",
       "        vertical-align: top;\n",
       "    }\n",
       "\n",
       "    .dataframe thead th {\n",
       "        text-align: right;\n",
       "    }\n",
       "</style>\n",
       "<table border=\"1\" class=\"dataframe\">\n",
       "  <thead>\n",
       "    <tr style=\"text-align: right;\">\n",
       "      <th></th>\n",
       "      <th>Country</th>\n",
       "      <th>Total_Orders</th>\n",
       "    </tr>\n",
       "  </thead>\n",
       "  <tbody>\n",
       "    <tr>\n",
       "      <th>0</th>\n",
       "      <td>Australia</td>\n",
       "      <td>1259</td>\n",
       "    </tr>\n",
       "    <tr>\n",
       "      <th>1</th>\n",
       "      <td>Austria</td>\n",
       "      <td>401</td>\n",
       "    </tr>\n",
       "    <tr>\n",
       "      <th>2</th>\n",
       "      <td>Bahrain</td>\n",
       "      <td>19</td>\n",
       "    </tr>\n",
       "    <tr>\n",
       "      <th>3</th>\n",
       "      <td>Belgium</td>\n",
       "      <td>2069</td>\n",
       "    </tr>\n",
       "    <tr>\n",
       "      <th>4</th>\n",
       "      <td>Brazil</td>\n",
       "      <td>32</td>\n",
       "    </tr>\n",
       "    <tr>\n",
       "      <th>5</th>\n",
       "      <td>Canada</td>\n",
       "      <td>151</td>\n",
       "    </tr>\n",
       "    <tr>\n",
       "      <th>6</th>\n",
       "      <td>Channel Islands</td>\n",
       "      <td>758</td>\n",
       "    </tr>\n",
       "    <tr>\n",
       "      <th>7</th>\n",
       "      <td>Cyprus</td>\n",
       "      <td>622</td>\n",
       "    </tr>\n",
       "    <tr>\n",
       "      <th>8</th>\n",
       "      <td>Czech Republic</td>\n",
       "      <td>30</td>\n",
       "    </tr>\n",
       "    <tr>\n",
       "      <th>9</th>\n",
       "      <td>Denmark</td>\n",
       "      <td>389</td>\n",
       "    </tr>\n",
       "    <tr>\n",
       "      <th>10</th>\n",
       "      <td>EIRE</td>\n",
       "      <td>8196</td>\n",
       "    </tr>\n",
       "    <tr>\n",
       "      <th>11</th>\n",
       "      <td>European Community</td>\n",
       "      <td>61</td>\n",
       "    </tr>\n",
       "    <tr>\n",
       "      <th>12</th>\n",
       "      <td>Finland</td>\n",
       "      <td>695</td>\n",
       "    </tr>\n",
       "    <tr>\n",
       "      <th>13</th>\n",
       "      <td>France</td>\n",
       "      <td>8557</td>\n",
       "    </tr>\n",
       "    <tr>\n",
       "      <th>14</th>\n",
       "      <td>Germany</td>\n",
       "      <td>9495</td>\n",
       "    </tr>\n",
       "    <tr>\n",
       "      <th>15</th>\n",
       "      <td>Greece</td>\n",
       "      <td>146</td>\n",
       "    </tr>\n",
       "    <tr>\n",
       "      <th>16</th>\n",
       "      <td>Hong Kong</td>\n",
       "      <td>288</td>\n",
       "    </tr>\n",
       "    <tr>\n",
       "      <th>17</th>\n",
       "      <td>Iceland</td>\n",
       "      <td>182</td>\n",
       "    </tr>\n",
       "    <tr>\n",
       "      <th>18</th>\n",
       "      <td>Israel</td>\n",
       "      <td>297</td>\n",
       "    </tr>\n",
       "    <tr>\n",
       "      <th>19</th>\n",
       "      <td>Italy</td>\n",
       "      <td>803</td>\n",
       "    </tr>\n",
       "    <tr>\n",
       "      <th>20</th>\n",
       "      <td>Japan</td>\n",
       "      <td>358</td>\n",
       "    </tr>\n",
       "    <tr>\n",
       "      <th>21</th>\n",
       "      <td>Lebanon</td>\n",
       "      <td>45</td>\n",
       "    </tr>\n",
       "    <tr>\n",
       "      <th>22</th>\n",
       "      <td>Lithuania</td>\n",
       "      <td>35</td>\n",
       "    </tr>\n",
       "    <tr>\n",
       "      <th>23</th>\n",
       "      <td>Malta</td>\n",
       "      <td>127</td>\n",
       "    </tr>\n",
       "    <tr>\n",
       "      <th>24</th>\n",
       "      <td>Netherlands</td>\n",
       "      <td>2371</td>\n",
       "    </tr>\n",
       "    <tr>\n",
       "      <th>25</th>\n",
       "      <td>Norway</td>\n",
       "      <td>1086</td>\n",
       "    </tr>\n",
       "    <tr>\n",
       "      <th>26</th>\n",
       "      <td>Poland</td>\n",
       "      <td>341</td>\n",
       "    </tr>\n",
       "    <tr>\n",
       "      <th>27</th>\n",
       "      <td>Portugal</td>\n",
       "      <td>1519</td>\n",
       "    </tr>\n",
       "    <tr>\n",
       "      <th>28</th>\n",
       "      <td>RSA</td>\n",
       "      <td>58</td>\n",
       "    </tr>\n",
       "    <tr>\n",
       "      <th>29</th>\n",
       "      <td>Saudi Arabia</td>\n",
       "      <td>10</td>\n",
       "    </tr>\n",
       "    <tr>\n",
       "      <th>30</th>\n",
       "      <td>Singapore</td>\n",
       "      <td>229</td>\n",
       "    </tr>\n",
       "    <tr>\n",
       "      <th>31</th>\n",
       "      <td>Spain</td>\n",
       "      <td>2533</td>\n",
       "    </tr>\n",
       "    <tr>\n",
       "      <th>32</th>\n",
       "      <td>Sweden</td>\n",
       "      <td>462</td>\n",
       "    </tr>\n",
       "    <tr>\n",
       "      <th>33</th>\n",
       "      <td>Switzerland</td>\n",
       "      <td>2002</td>\n",
       "    </tr>\n",
       "    <tr>\n",
       "      <th>34</th>\n",
       "      <td>USA</td>\n",
       "      <td>291</td>\n",
       "    </tr>\n",
       "    <tr>\n",
       "      <th>35</th>\n",
       "      <td>United Arab Emirates</td>\n",
       "      <td>68</td>\n",
       "    </tr>\n",
       "    <tr>\n",
       "      <th>36</th>\n",
       "      <td>United Kingdom</td>\n",
       "      <td>495478</td>\n",
       "    </tr>\n",
       "  </tbody>\n",
       "</table>\n",
       "</div>"
      ],
      "text/plain": [
       "                 Country  Total_Orders\n",
       "0              Australia          1259\n",
       "1                Austria           401\n",
       "2                Bahrain            19\n",
       "3                Belgium          2069\n",
       "4                 Brazil            32\n",
       "5                 Canada           151\n",
       "6        Channel Islands           758\n",
       "7                 Cyprus           622\n",
       "8         Czech Republic            30\n",
       "9                Denmark           389\n",
       "10                  EIRE          8196\n",
       "11    European Community            61\n",
       "12               Finland           695\n",
       "13                France          8557\n",
       "14               Germany          9495\n",
       "15                Greece           146\n",
       "16             Hong Kong           288\n",
       "17               Iceland           182\n",
       "18                Israel           297\n",
       "19                 Italy           803\n",
       "20                 Japan           358\n",
       "21               Lebanon            45\n",
       "22             Lithuania            35\n",
       "23                 Malta           127\n",
       "24           Netherlands          2371\n",
       "25                Norway          1086\n",
       "26                Poland           341\n",
       "27              Portugal          1519\n",
       "28                   RSA            58\n",
       "29          Saudi Arabia            10\n",
       "30             Singapore           229\n",
       "31                 Spain          2533\n",
       "32                Sweden           462\n",
       "33           Switzerland          2002\n",
       "34                   USA           291\n",
       "35  United Arab Emirates            68\n",
       "36        United Kingdom        495478"
      ]
     },
     "execution_count": 49,
     "metadata": {},
     "output_type": "execute_result"
    }
   ],
   "source": [
    "con"
   ]
  },
  {
   "cell_type": "code",
   "execution_count": 53,
   "metadata": {},
   "outputs": [
    {
     "data": {
      "text/html": [
       "<script>requirejs.config({paths: { 'plotly': ['https://cdn.plot.ly/plotly-latest.min']},});if(!window.Plotly) {{require(['plotly'],function(plotly) {window.Plotly=plotly;});}}</script>"
      ],
      "text/vnd.plotly.v1+html": [
       "<script>requirejs.config({paths: { 'plotly': ['https://cdn.plot.ly/plotly-latest.min']},});if(!window.Plotly) {{require(['plotly'],function(plotly) {window.Plotly=plotly;});}}</script>"
      ]
     },
     "metadata": {},
     "output_type": "display_data"
    }
   ],
   "source": [
    "init_notebook_mode(connected=True)"
   ]
  },
  {
   "cell_type": "code",
   "execution_count": 54,
   "metadata": {},
   "outputs": [],
   "source": [
    "data = dict(type='choropleth',\n",
    "locations = con['Country'],\n",
    "locationmode = 'country names', z = con['Total_Orders'],\n",
    "text = con['Country'], colorbar = {'title':'Total Orders'},\n",
    "colorscale = [[0,\"rgb(5, 10, 172)\"],[0.35,\"rgb(40, 60, 190)\"],[0.5,\"rgb(70, 100, 245)\"],\\\n",
    "            [0.6,\"rgb(90, 120, 245)\"],[0.7,\"rgb(106, 137, 247)\"],[1,\"rgb(220, 220, 220)\"]], reversescale = True,\n",
    "            marker = dict(\n",
    "            line = dict (\n",
    "                color = 'rgb(180,180,180)',\n",
    "                width = 0.5\n",
    "            ) ))"
   ]
  },
  {
   "cell_type": "code",
   "execution_count": 63,
   "metadata": {},
   "outputs": [],
   "source": [
    "layout = dict(title='Order Frequency by Country',\n",
    "geo = dict(showframe=False,projection={'type':'equirectangular'}))"
   ]
  },
  {
   "cell_type": "code",
   "execution_count": 64,
   "metadata": {
    "collapsed": true
   },
   "outputs": [
    {
     "data": {
      "application/vnd.plotly.v1+json": {
       "data": [
        {
         "colorbar": {
          "title": "Total Orders"
         },
         "colorscale": [
          [
           0,
           "rgb(5, 10, 172)"
          ],
          [
           0.35,
           "rgb(40, 60, 190)"
          ],
          [
           0.5,
           "rgb(70, 100, 245)"
          ],
          [
           0.6,
           "rgb(90, 120, 245)"
          ],
          [
           0.7,
           "rgb(106, 137, 247)"
          ],
          [
           1,
           "rgb(220, 220, 220)"
          ]
         ],
         "locationmode": "country names",
         "locations": [
          "Australia",
          "Austria",
          "Bahrain",
          "Belgium",
          "Brazil",
          "Canada",
          "Channel Islands",
          "Cyprus",
          "Czech Republic",
          "Denmark",
          "EIRE",
          "European Community",
          "Finland",
          "France",
          "Germany",
          "Greece",
          "Hong Kong",
          "Iceland",
          "Israel",
          "Italy",
          "Japan",
          "Lebanon",
          "Lithuania",
          "Malta",
          "Netherlands",
          "Norway",
          "Poland",
          "Portugal",
          "RSA",
          "Saudi Arabia",
          "Singapore",
          "Spain",
          "Sweden",
          "Switzerland",
          "USA",
          "United Arab Emirates",
          "United Kingdom"
         ],
         "marker": {
          "line": {
           "color": "rgb(180,180,180)",
           "width": 0.5
          }
         },
         "reversescale": true,
         "text": [
          "Australia",
          "Austria",
          "Bahrain",
          "Belgium",
          "Brazil",
          "Canada",
          "Channel Islands",
          "Cyprus",
          "Czech Republic",
          "Denmark",
          "EIRE",
          "European Community",
          "Finland",
          "France",
          "Germany",
          "Greece",
          "Hong Kong",
          "Iceland",
          "Israel",
          "Italy",
          "Japan",
          "Lebanon",
          "Lithuania",
          "Malta",
          "Netherlands",
          "Norway",
          "Poland",
          "Portugal",
          "RSA",
          "Saudi Arabia",
          "Singapore",
          "Spain",
          "Sweden",
          "Switzerland",
          "USA",
          "United Arab Emirates",
          "United Kingdom"
         ],
         "type": "choropleth",
         "uid": "a97f0fae-bb84-11e8-b176-34f39a7d97d0",
         "z": [
          1259,
          401,
          19,
          2069,
          32,
          151,
          758,
          622,
          30,
          389,
          8196,
          61,
          695,
          8557,
          9495,
          146,
          288,
          182,
          297,
          803,
          358,
          45,
          35,
          127,
          2371,
          1086,
          341,
          1519,
          58,
          10,
          229,
          2533,
          462,
          2002,
          291,
          68,
          495478
         ]
        }
       ],
       "layout": {
        "geo": {
         "projection": {
          "type": "equirectangular"
         },
         "showframe": false
        },
        "title": "Order Frequency by Country"
       }
      },
      "text/html": [
       "<div id=\"a6e25f5e-e594-4677-9da3-b680e7aa5834\" style=\"height: 525px; width: 100%;\" class=\"plotly-graph-div\"></div><script type=\"text/javascript\">require([\"plotly\"], function(Plotly) { window.PLOTLYENV=window.PLOTLYENV || {};window.PLOTLYENV.BASE_URL=\"https://plot.ly\";Plotly.newPlot(\"a6e25f5e-e594-4677-9da3-b680e7aa5834\", [{\"colorbar\": {\"title\": \"Total Orders\"}, \"colorscale\": [[0, \"rgb(5, 10, 172)\"], [0.35, \"rgb(40, 60, 190)\"], [0.5, \"rgb(70, 100, 245)\"], [0.6, \"rgb(90, 120, 245)\"], [0.7, \"rgb(106, 137, 247)\"], [1, \"rgb(220, 220, 220)\"]], \"locationmode\": \"country names\", \"locations\": [\"Australia\", \"Austria\", \"Bahrain\", \"Belgium\", \"Brazil\", \"Canada\", \"Channel Islands\", \"Cyprus\", \"Czech Republic\", \"Denmark\", \"EIRE\", \"European Community\", \"Finland\", \"France\", \"Germany\", \"Greece\", \"Hong Kong\", \"Iceland\", \"Israel\", \"Italy\", \"Japan\", \"Lebanon\", \"Lithuania\", \"Malta\", \"Netherlands\", \"Norway\", \"Poland\", \"Portugal\", \"RSA\", \"Saudi Arabia\", \"Singapore\", \"Spain\", \"Sweden\", \"Switzerland\", \"USA\", \"United Arab Emirates\", \"United Kingdom\"], \"marker\": {\"line\": {\"color\": \"rgb(180,180,180)\", \"width\": 0.5}}, \"reversescale\": true, \"text\": [\"Australia\", \"Austria\", \"Bahrain\", \"Belgium\", \"Brazil\", \"Canada\", \"Channel Islands\", \"Cyprus\", \"Czech Republic\", \"Denmark\", \"EIRE\", \"European Community\", \"Finland\", \"France\", \"Germany\", \"Greece\", \"Hong Kong\", \"Iceland\", \"Israel\", \"Italy\", \"Japan\", \"Lebanon\", \"Lithuania\", \"Malta\", \"Netherlands\", \"Norway\", \"Poland\", \"Portugal\", \"RSA\", \"Saudi Arabia\", \"Singapore\", \"Spain\", \"Sweden\", \"Switzerland\", \"USA\", \"United Arab Emirates\", \"United Kingdom\"], \"z\": [1259, 401, 19, 2069, 32, 151, 758, 622, 30, 389, 8196, 61, 695, 8557, 9495, 146, 288, 182, 297, 803, 358, 45, 35, 127, 2371, 1086, 341, 1519, 58, 10, 229, 2533, 462, 2002, 291, 68, 495478], \"type\": \"choropleth\", \"uid\": \"a97f0fae-bb84-11e8-b176-34f39a7d97d0\"}], {\"geo\": {\"projection\": {\"type\": \"equirectangular\"}, \"showframe\": false}, \"title\": \"Order Frequency by Country\"}, {\"showLink\": true, \"linkText\": \"Export to plot.ly\"})});</script>"
      ],
      "text/vnd.plotly.v1+html": [
       "<div id=\"a6e25f5e-e594-4677-9da3-b680e7aa5834\" style=\"height: 525px; width: 100%;\" class=\"plotly-graph-div\"></div><script type=\"text/javascript\">require([\"plotly\"], function(Plotly) { window.PLOTLYENV=window.PLOTLYENV || {};window.PLOTLYENV.BASE_URL=\"https://plot.ly\";Plotly.newPlot(\"a6e25f5e-e594-4677-9da3-b680e7aa5834\", [{\"colorbar\": {\"title\": \"Total Orders\"}, \"colorscale\": [[0, \"rgb(5, 10, 172)\"], [0.35, \"rgb(40, 60, 190)\"], [0.5, \"rgb(70, 100, 245)\"], [0.6, \"rgb(90, 120, 245)\"], [0.7, \"rgb(106, 137, 247)\"], [1, \"rgb(220, 220, 220)\"]], \"locationmode\": \"country names\", \"locations\": [\"Australia\", \"Austria\", \"Bahrain\", \"Belgium\", \"Brazil\", \"Canada\", \"Channel Islands\", \"Cyprus\", \"Czech Republic\", \"Denmark\", \"EIRE\", \"European Community\", \"Finland\", \"France\", \"Germany\", \"Greece\", \"Hong Kong\", \"Iceland\", \"Israel\", \"Italy\", \"Japan\", \"Lebanon\", \"Lithuania\", \"Malta\", \"Netherlands\", \"Norway\", \"Poland\", \"Portugal\", \"RSA\", \"Saudi Arabia\", \"Singapore\", \"Spain\", \"Sweden\", \"Switzerland\", \"USA\", \"United Arab Emirates\", \"United Kingdom\"], \"marker\": {\"line\": {\"color\": \"rgb(180,180,180)\", \"width\": 0.5}}, \"reversescale\": true, \"text\": [\"Australia\", \"Austria\", \"Bahrain\", \"Belgium\", \"Brazil\", \"Canada\", \"Channel Islands\", \"Cyprus\", \"Czech Republic\", \"Denmark\", \"EIRE\", \"European Community\", \"Finland\", \"France\", \"Germany\", \"Greece\", \"Hong Kong\", \"Iceland\", \"Israel\", \"Italy\", \"Japan\", \"Lebanon\", \"Lithuania\", \"Malta\", \"Netherlands\", \"Norway\", \"Poland\", \"Portugal\", \"RSA\", \"Saudi Arabia\", \"Singapore\", \"Spain\", \"Sweden\", \"Switzerland\", \"USA\", \"United Arab Emirates\", \"United Kingdom\"], \"z\": [1259, 401, 19, 2069, 32, 151, 758, 622, 30, 389, 8196, 61, 695, 8557, 9495, 146, 288, 182, 297, 803, 358, 45, 35, 127, 2371, 1086, 341, 1519, 58, 10, 229, 2533, 462, 2002, 291, 68, 495478], \"type\": \"choropleth\", \"uid\": \"a97f0fae-bb84-11e8-b176-34f39a7d97d0\"}], {\"geo\": {\"projection\": {\"type\": \"equirectangular\"}, \"showframe\": false}, \"title\": \"Order Frequency by Country\"}, {\"showLink\": true, \"linkText\": \"Export to plot.ly\"})});</script>"
      ]
     },
     "metadata": {},
     "output_type": "display_data"
    }
   ],
   "source": [
    "choromap = go.Figure(data = [data],layout = layout)\n",
    "iplot(choromap,validate=False)"
   ]
  },
  {
   "cell_type": "markdown",
   "metadata": {},
   "source": [
    "**Since Github hasn't yet rendered iframes at the moment, plotly graphs do not show up on the page. <br>\n",
    "I screenshot the plotly map result for demonstration purpose.**"
   ]
  },
  {
   "cell_type": "markdown",
   "metadata": {},
   "source": [
    "<img src='map.png'>"
   ]
  },
  {
   "cell_type": "markdown",
   "metadata": {},
   "source": [
    "## Which country's customers had highest average spending per order\n",
    "**From the result, we can see that Customers from Netherlands had highest average spending per order. <br>\n",
    "Although UK had largest number of orders, customers from UK had relatively lower average spending per order.**"
   ]
  },
  {
   "cell_type": "code",
   "execution_count": null,
   "metadata": {},
   "outputs": [],
   "source": [
    "df['Total_Price'] = df['Quantity'] * df['UnitPrice']"
   ]
  },
  {
   "cell_type": "code",
   "execution_count": 128,
   "metadata": {},
   "outputs": [],
   "source": [
    "pri = round(df.groupby('Country')['Total_Price'].sum(),2).to_frame().reset_index()\n",
    "pri = pri.drop([37])\n",
    "con_pri = pd.merge(con, pri, how='left', on='Country')"
   ]
  },
  {
   "cell_type": "code",
   "execution_count": 132,
   "metadata": {},
   "outputs": [],
   "source": [
    "con_pri['Average_Price'] = round(con_pri['Total_Price']/con_pri['Total_Orders'],2)"
   ]
  },
  {
   "cell_type": "code",
   "execution_count": 135,
   "metadata": {},
   "outputs": [
    {
     "data": {
      "text/html": [
       "<div>\n",
       "<style scoped>\n",
       "    .dataframe tbody tr th:only-of-type {\n",
       "        vertical-align: middle;\n",
       "    }\n",
       "\n",
       "    .dataframe tbody tr th {\n",
       "        vertical-align: top;\n",
       "    }\n",
       "\n",
       "    .dataframe thead th {\n",
       "        text-align: right;\n",
       "    }\n",
       "</style>\n",
       "<table border=\"1\" class=\"dataframe\">\n",
       "  <thead>\n",
       "    <tr style=\"text-align: right;\">\n",
       "      <th></th>\n",
       "      <th>Country</th>\n",
       "      <th>Total_Orders</th>\n",
       "      <th>Total_Price</th>\n",
       "      <th>Average_Price</th>\n",
       "    </tr>\n",
       "  </thead>\n",
       "  <tbody>\n",
       "    <tr>\n",
       "      <th>24</th>\n",
       "      <td>Netherlands</td>\n",
       "      <td>2371</td>\n",
       "      <td>284661.54</td>\n",
       "      <td>120.06</td>\n",
       "    </tr>\n",
       "    <tr>\n",
       "      <th>0</th>\n",
       "      <td>Australia</td>\n",
       "      <td>1259</td>\n",
       "      <td>137077.27</td>\n",
       "      <td>108.88</td>\n",
       "    </tr>\n",
       "    <tr>\n",
       "      <th>20</th>\n",
       "      <td>Japan</td>\n",
       "      <td>358</td>\n",
       "      <td>35340.62</td>\n",
       "      <td>98.72</td>\n",
       "    </tr>\n",
       "    <tr>\n",
       "      <th>32</th>\n",
       "      <td>Sweden</td>\n",
       "      <td>462</td>\n",
       "      <td>36595.91</td>\n",
       "      <td>79.21</td>\n",
       "    </tr>\n",
       "    <tr>\n",
       "      <th>9</th>\n",
       "      <td>Denmark</td>\n",
       "      <td>389</td>\n",
       "      <td>18768.14</td>\n",
       "      <td>48.25</td>\n",
       "    </tr>\n",
       "    <tr>\n",
       "      <th>22</th>\n",
       "      <td>Lithuania</td>\n",
       "      <td>35</td>\n",
       "      <td>1661.06</td>\n",
       "      <td>47.46</td>\n",
       "    </tr>\n",
       "    <tr>\n",
       "      <th>30</th>\n",
       "      <td>Singapore</td>\n",
       "      <td>229</td>\n",
       "      <td>9120.39</td>\n",
       "      <td>39.83</td>\n",
       "    </tr>\n",
       "    <tr>\n",
       "      <th>21</th>\n",
       "      <td>Lebanon</td>\n",
       "      <td>45</td>\n",
       "      <td>1693.88</td>\n",
       "      <td>37.64</td>\n",
       "    </tr>\n",
       "    <tr>\n",
       "      <th>4</th>\n",
       "      <td>Brazil</td>\n",
       "      <td>32</td>\n",
       "      <td>1143.60</td>\n",
       "      <td>35.74</td>\n",
       "    </tr>\n",
       "    <tr>\n",
       "      <th>16</th>\n",
       "      <td>Hong Kong</td>\n",
       "      <td>288</td>\n",
       "      <td>10117.04</td>\n",
       "      <td>35.13</td>\n",
       "    </tr>\n",
       "    <tr>\n",
       "      <th>25</th>\n",
       "      <td>Norway</td>\n",
       "      <td>1086</td>\n",
       "      <td>35163.46</td>\n",
       "      <td>32.38</td>\n",
       "    </tr>\n",
       "    <tr>\n",
       "      <th>15</th>\n",
       "      <td>Greece</td>\n",
       "      <td>146</td>\n",
       "      <td>4710.52</td>\n",
       "      <td>32.26</td>\n",
       "    </tr>\n",
       "    <tr>\n",
       "      <th>10</th>\n",
       "      <td>EIRE</td>\n",
       "      <td>8196</td>\n",
       "      <td>263276.82</td>\n",
       "      <td>32.12</td>\n",
       "    </tr>\n",
       "    <tr>\n",
       "      <th>12</th>\n",
       "      <td>Finland</td>\n",
       "      <td>695</td>\n",
       "      <td>22326.74</td>\n",
       "      <td>32.12</td>\n",
       "    </tr>\n",
       "    <tr>\n",
       "      <th>2</th>\n",
       "      <td>Bahrain</td>\n",
       "      <td>19</td>\n",
       "      <td>548.40</td>\n",
       "      <td>28.86</td>\n",
       "    </tr>\n",
       "    <tr>\n",
       "      <th>33</th>\n",
       "      <td>Switzerland</td>\n",
       "      <td>2002</td>\n",
       "      <td>56385.35</td>\n",
       "      <td>28.16</td>\n",
       "    </tr>\n",
       "    <tr>\n",
       "      <th>35</th>\n",
       "      <td>United Arab Emirates</td>\n",
       "      <td>68</td>\n",
       "      <td>1902.28</td>\n",
       "      <td>27.97</td>\n",
       "    </tr>\n",
       "    <tr>\n",
       "      <th>18</th>\n",
       "      <td>Israel</td>\n",
       "      <td>297</td>\n",
       "      <td>7907.82</td>\n",
       "      <td>26.63</td>\n",
       "    </tr>\n",
       "    <tr>\n",
       "      <th>6</th>\n",
       "      <td>Channel Islands</td>\n",
       "      <td>758</td>\n",
       "      <td>20086.29</td>\n",
       "      <td>26.50</td>\n",
       "    </tr>\n",
       "    <tr>\n",
       "      <th>1</th>\n",
       "      <td>Austria</td>\n",
       "      <td>401</td>\n",
       "      <td>10154.32</td>\n",
       "      <td>25.32</td>\n",
       "    </tr>\n",
       "    <tr>\n",
       "      <th>5</th>\n",
       "      <td>Canada</td>\n",
       "      <td>151</td>\n",
       "      <td>3666.38</td>\n",
       "      <td>24.28</td>\n",
       "    </tr>\n",
       "    <tr>\n",
       "      <th>17</th>\n",
       "      <td>Iceland</td>\n",
       "      <td>182</td>\n",
       "      <td>4310.00</td>\n",
       "      <td>23.68</td>\n",
       "    </tr>\n",
       "    <tr>\n",
       "      <th>8</th>\n",
       "      <td>Czech Republic</td>\n",
       "      <td>30</td>\n",
       "      <td>707.72</td>\n",
       "      <td>23.59</td>\n",
       "    </tr>\n",
       "    <tr>\n",
       "      <th>14</th>\n",
       "      <td>Germany</td>\n",
       "      <td>9495</td>\n",
       "      <td>221698.21</td>\n",
       "      <td>23.35</td>\n",
       "    </tr>\n",
       "    <tr>\n",
       "      <th>13</th>\n",
       "      <td>France</td>\n",
       "      <td>8557</td>\n",
       "      <td>197403.90</td>\n",
       "      <td>23.07</td>\n",
       "    </tr>\n",
       "    <tr>\n",
       "      <th>31</th>\n",
       "      <td>Spain</td>\n",
       "      <td>2533</td>\n",
       "      <td>54774.58</td>\n",
       "      <td>21.62</td>\n",
       "    </tr>\n",
       "    <tr>\n",
       "      <th>11</th>\n",
       "      <td>European Community</td>\n",
       "      <td>61</td>\n",
       "      <td>1291.75</td>\n",
       "      <td>21.18</td>\n",
       "    </tr>\n",
       "    <tr>\n",
       "      <th>26</th>\n",
       "      <td>Poland</td>\n",
       "      <td>341</td>\n",
       "      <td>7213.14</td>\n",
       "      <td>21.15</td>\n",
       "    </tr>\n",
       "    <tr>\n",
       "      <th>19</th>\n",
       "      <td>Italy</td>\n",
       "      <td>803</td>\n",
       "      <td>16890.51</td>\n",
       "      <td>21.03</td>\n",
       "    </tr>\n",
       "    <tr>\n",
       "      <th>7</th>\n",
       "      <td>Cyprus</td>\n",
       "      <td>622</td>\n",
       "      <td>12946.29</td>\n",
       "      <td>20.81</td>\n",
       "    </tr>\n",
       "    <tr>\n",
       "      <th>3</th>\n",
       "      <td>Belgium</td>\n",
       "      <td>2069</td>\n",
       "      <td>40910.96</td>\n",
       "      <td>19.77</td>\n",
       "    </tr>\n",
       "    <tr>\n",
       "      <th>23</th>\n",
       "      <td>Malta</td>\n",
       "      <td>127</td>\n",
       "      <td>2505.47</td>\n",
       "      <td>19.73</td>\n",
       "    </tr>\n",
       "    <tr>\n",
       "      <th>27</th>\n",
       "      <td>Portugal</td>\n",
       "      <td>1519</td>\n",
       "      <td>29367.02</td>\n",
       "      <td>19.33</td>\n",
       "    </tr>\n",
       "    <tr>\n",
       "      <th>28</th>\n",
       "      <td>RSA</td>\n",
       "      <td>58</td>\n",
       "      <td>1002.31</td>\n",
       "      <td>17.28</td>\n",
       "    </tr>\n",
       "    <tr>\n",
       "      <th>36</th>\n",
       "      <td>United Kingdom</td>\n",
       "      <td>495478</td>\n",
       "      <td>8187806.36</td>\n",
       "      <td>16.53</td>\n",
       "    </tr>\n",
       "    <tr>\n",
       "      <th>29</th>\n",
       "      <td>Saudi Arabia</td>\n",
       "      <td>10</td>\n",
       "      <td>131.17</td>\n",
       "      <td>13.12</td>\n",
       "    </tr>\n",
       "    <tr>\n",
       "      <th>34</th>\n",
       "      <td>USA</td>\n",
       "      <td>291</td>\n",
       "      <td>1730.92</td>\n",
       "      <td>5.95</td>\n",
       "    </tr>\n",
       "  </tbody>\n",
       "</table>\n",
       "</div>"
      ],
      "text/plain": [
       "                 Country  Total_Orders  Total_Price  Average_Price\n",
       "24           Netherlands          2371    284661.54         120.06\n",
       "0              Australia          1259    137077.27         108.88\n",
       "20                 Japan           358     35340.62          98.72\n",
       "32                Sweden           462     36595.91          79.21\n",
       "9                Denmark           389     18768.14          48.25\n",
       "22             Lithuania            35      1661.06          47.46\n",
       "30             Singapore           229      9120.39          39.83\n",
       "21               Lebanon            45      1693.88          37.64\n",
       "4                 Brazil            32      1143.60          35.74\n",
       "16             Hong Kong           288     10117.04          35.13\n",
       "25                Norway          1086     35163.46          32.38\n",
       "15                Greece           146      4710.52          32.26\n",
       "10                  EIRE          8196    263276.82          32.12\n",
       "12               Finland           695     22326.74          32.12\n",
       "2                Bahrain            19       548.40          28.86\n",
       "33           Switzerland          2002     56385.35          28.16\n",
       "35  United Arab Emirates            68      1902.28          27.97\n",
       "18                Israel           297      7907.82          26.63\n",
       "6        Channel Islands           758     20086.29          26.50\n",
       "1                Austria           401     10154.32          25.32\n",
       "5                 Canada           151      3666.38          24.28\n",
       "17               Iceland           182      4310.00          23.68\n",
       "8         Czech Republic            30       707.72          23.59\n",
       "14               Germany          9495    221698.21          23.35\n",
       "13                France          8557    197403.90          23.07\n",
       "31                 Spain          2533     54774.58          21.62\n",
       "11    European Community            61      1291.75          21.18\n",
       "26                Poland           341      7213.14          21.15\n",
       "19                 Italy           803     16890.51          21.03\n",
       "7                 Cyprus           622     12946.29          20.81\n",
       "3                Belgium          2069     40910.96          19.77\n",
       "23                 Malta           127      2505.47          19.73\n",
       "27              Portugal          1519     29367.02          19.33\n",
       "28                   RSA            58      1002.31          17.28\n",
       "36        United Kingdom        495478   8187806.36          16.53\n",
       "29          Saudi Arabia            10       131.17          13.12\n",
       "34                   USA           291      1730.92           5.95"
      ]
     },
     "execution_count": 135,
     "metadata": {},
     "output_type": "execute_result"
    }
   ],
   "source": [
    "con_pri.sort_values(by=['Average_Price'], ascending=False)"
   ]
  },
  {
   "cell_type": "markdown",
   "metadata": {},
   "source": [
    "## Word Frequency of Product Description"
   ]
  },
  {
   "cell_type": "code",
   "execution_count": 102,
   "metadata": {},
   "outputs": [],
   "source": [
    "# get all production description\n",
    "product_description_lst = df.Description.unique()"
   ]
  },
  {
   "cell_type": "code",
   "execution_count": 108,
   "metadata": {},
   "outputs": [
    {
     "name": "stdout",
     "output_type": "stream",
     "text": [
      "['WHITE HANGING HEART T LIGHT HOLDER', 'WHITE METAL LANTERN', 'CREAM CUPID HEARTS COAT HANGER', 'KNITTED UNION FLAG HOT WATER BOTTLE', 'RED WOOLLY HOTTIE WHITE HEART ']\n"
     ]
    }
   ],
   "source": [
    "all_product_list = []\n",
    "for s in product_description_lst:\n",
    "    letters_only = re.sub(\"[^a-zA-Z]\",  # Search for all non-letters\n",
    "                          \" \",          # Replace all non-letters with spaces\n",
    "                          str(s))\n",
    "    letters_only = re.sub(r\"$\\d+\\W+|\\b\\d+\\b|\\W+\\d+$\", \"\", letters_only) # remove numbers in the product description\n",
    "    all_product_list.append(letters_only)\n",
    "    \n",
    "print(all_product_list[:5])"
   ]
  },
  {
   "cell_type": "code",
   "execution_count": 114,
   "metadata": {},
   "outputs": [],
   "source": [
    "# sperate all the product description word by word\n",
    "gen_docs = [[w.lower() for w in word_tokenize(text)] \n",
    "            for text in all_product_list]\n",
    "\n",
    "# make all tokenized word in a list\n",
    "flat_list = [item for sublist in gen_docs for item in sublist]\n",
    "\n",
    "# remove stop word from counts\n",
    "stopset = list(set(stopwords.words('english')))\n",
    "word_list = []\n",
    "for w in flat_list:\n",
    "    if w not in stopset:\n",
    "        word_list.append(w)\n",
    "\n",
    "# count frequency for each word\n",
    "counts = Counter(word_list)\n",
    "#counts = {k:counts[k] for k in counts if counts[k] > 147}#.most_common()\n",
    "#print(counts)\n",
    "\n",
    "# sort word by frequency \n",
    "sorted_counts = sorted(counts.items(), key=operator.itemgetter(1), reverse=False)\n",
    "sorted_counts = sorted_counts[-10:]\n",
    "    "
   ]
  },
  {
   "cell_type": "code",
   "execution_count": 115,
   "metadata": {},
   "outputs": [
    {
     "data": {
      "image/png": "[encoded data removed]",
      "text/plain": [
       "<Figure size 360x720 with 1 Axes>"
      ]
     },
     "metadata": {},
     "output_type": "display_data"
    }
   ],
   "source": [
    "keys = [val[0] for val in sorted_counts]\n",
    "y_pos = np.arange(len(sorted_counts))\n",
    "performance = [val[1] for val in sorted_counts]\n",
    "error = np.random.rand(len(keys))\n",
    "\n",
    "fig = plt.figure(figsize=(5,10))\n",
    "ax = fig.add_subplot(111)\n",
    "ax.barh(y_pos, performance, xerr=error, align='center', alpha=0.4)\n",
    "#plt.subplots(figsize=(20, 10))\n",
    "\n",
    "plt.yticks(y_pos, keys,fontsize=16)\n",
    "plt.xlabel('Word counts', fontsize=16)\n",
    "plt.title('Word frequency', fontsize=16)\n",
    "\n",
    "plt.show()"
   ]
  },
  {
   "cell_type": "code",
   "execution_count": null,
   "metadata": {},
   "outputs": [],
   "source": []
  }
 ],
 "metadata": {
  "kernelspec": {
   "display_name": "Python 3",
   "language": "python",
   "name": "python3"
  },
  "language_info": {
   "codemirror_mode": {
    "name": "ipython",
    "version": 3
   },
   "file_extension": ".py",
   "mimetype": "text/x-python",
   "name": "python",
   "nbconvert_exporter": "python",
   "pygments_lexer": "ipython3",
   "version": "3.6.5"
  },
  "toc": {
   "base_numbering": 1,
   "nav_menu": {},
   "number_sections": true,
   "sideBar": true,
   "skip_h1_title": false,
   "title_cell": "Table of Contents",
   "title_sidebar": "Contents",
   "toc_cell": false,
   "toc_position": {},
   "toc_section_display": true,
   "toc_window_display": false
  },
  "varInspector": {
   "cols": {
    "lenName": 16,
    "lenType": 16,
    "lenVar": 40
   },
   "kernels_config": {
    "python": {
     "delete_cmd_postfix": "",
     "delete_cmd_prefix": "del ",
     "library": "var_list.py",
     "varRefreshCmd": "print(var_dic_list())"
    },
    "r": {
     "delete_cmd_postfix": ") ",
     "delete_cmd_prefix": "rm(",
     "library": "var_list.r",
     "varRefreshCmd": "cat(var_dic_list()) "
    }
   },
   "types_to_exclude": [
    "module",
    "function",
    "builtin_function_or_method",
    "instance",
    "_Feature"
   ],
   "window_display": false
  }
 },
 "nbformat": 4,
 "nbformat_minor": 2
}
